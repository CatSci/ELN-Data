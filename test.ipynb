{
 "cells": [
  {
   "cell_type": "code",
   "execution_count": 10,
   "metadata": {},
   "outputs": [],
   "source": [
    "from elndata.constant.data import SCHEMA_FILE_PATH\n",
    "from elndata.exception import ELNException\n",
    "from elndata.logger import logging\n",
    "from elndata.utils.main import read_yaml_file\n",
    "from elndata.components.data_extraction import DataExtraction\n",
    "import yaml\n",
    "import sys, requests\n",
    "import pandas as pd\n",
    "\n",
    "\n",
    "from elndata.entity.config_entity import Data,DataExtractionConfig\n"
   ]
  },
  {
   "cell_type": "code",
   "execution_count": 11,
   "metadata": {},
   "outputs": [
    {
     "name": "stdout",
     "output_type": "stream",
     "text": [
      "{'type': 'entity', 'id': 'experiment:a9a71533-531e-4020-98d9-205fde793994', 'links': {'self': 'https://catsci-sandbox.signalsnotebook.perkinelmercloud.eu/api/rest/v1.0/entities/experiment:a9a71533-531e-4020-98d9-205fde793994'}, 'attributes': {'id': 'experiment:a9a71533-531e-4020-98d9-205fde793994', 'eid': 'experiment:a9a71533-531e-4020-98d9-205fde793994', 'name': 'ELN1012-005', 'description': 'BMT-096: Crystal16 Solubility in 2-MeTHF', 'createdAt': '2023-04-20T08:41:29.984Z', 'editedAt': '2023-04-20T08:41:29.984Z', 'type': 'experiment', 'state': 'open', 'digest': '57659913', 'fields': {'Client facing': {'value': 'No'}, 'Description': {'value': 'BMT-096: Crystal16 Solubility in 2-MeTHF'}, 'Function': {'value': 'MatSci'}, 'Name': {'value': 'ELN1012-005'}, 'Project Code': {'value': 'CS73-232'}, 'Project Description': {'value': '986158'}, 'Site': {'value': 'Cardiff'}}, 'flags': {'canEdit': True}}, 'relationships': {'createdBy': {'links': {'self': 'https://catsci-sandbox.signalsnotebook.perkinelmercloud.eu/api/rest/v1.0/users/126'}, 'data': {'type': 'user', 'id': '126'}}, 'editedBy': {'links': {'self': 'https://catsci-sandbox.signalsnotebook.perkinelmercloud.eu/api/rest/v1.0/users/126'}, 'data': {'type': 'user', 'id': '126'}}, 'ancestors': {'links': {'self': 'https://catsci-sandbox.signalsnotebook.perkinelmercloud.eu/api/rest/v1.0/entities/experiment:a9a71533-531e-4020-98d9-205fde793994/ancestors'}, 'data': [{'type': 'entity', 'id': 'journal:6e0ea840-2916-4d15-8e1b-4ce064d21b9b', 'meta': {'links': {'self': 'https://catsci-sandbox.signalsnotebook.perkinelmercloud.eu/api/rest/v1.0/entities/journal:6e0ea840-2916-4d15-8e1b-4ce064d21b9b'}}}]}, 'children': {'links': {'self': 'https://catsci-sandbox.signalsnotebook.perkinelmercloud.eu/api/rest/v1.0/entities/experiment:a9a71533-531e-4020-98d9-205fde793994/children'}, 'data': [{'type': 'entity', 'id': 'text:f8e901be-0f53-40fb-b940-d7118608c13c', 'meta': {'links': {'self': 'https://catsci-sandbox.signalsnotebook.perkinelmercloud.eu/api/rest/v1.0/entities/text:f8e901be-0f53-40fb-b940-d7118608c13c'}}}, {'type': 'entity', 'id': 'text:7455666b-a9e2-4fea-94c2-7dbda8de45df', 'meta': {'links': {'self': 'https://catsci-sandbox.signalsnotebook.perkinelmercloud.eu/api/rest/v1.0/entities/text:7455666b-a9e2-4fea-94c2-7dbda8de45df'}}}, {'type': 'entity', 'id': 'text:c49edca5-6187-42d4-90fd-2d8802d9ac9b', 'meta': {'links': {'self': 'https://catsci-sandbox.signalsnotebook.perkinelmercloud.eu/api/rest/v1.0/entities/text:c49edca5-6187-42d4-90fd-2d8802d9ac9b'}}}, {'type': 'entity', 'id': 'grid:a120ebab-7e06-4b9c-b197-7a2f279acef8', 'meta': {'links': {'self': 'https://catsci-sandbox.signalsnotebook.perkinelmercloud.eu/api/rest/v1.0/entities/grid:a120ebab-7e06-4b9c-b197-7a2f279acef8'}}}, {'type': 'entity', 'id': 'grid:7ad1f318-e0a6-477c-82b8-2fe574f3eee3', 'meta': {'links': {'self': 'https://catsci-sandbox.signalsnotebook.perkinelmercloud.eu/api/rest/v1.0/entities/grid:7ad1f318-e0a6-477c-82b8-2fe574f3eee3'}}}, {'type': 'entity', 'id': 'text:d44f835a-151e-4b1a-9fb7-1082626d103d', 'meta': {'links': {'self': 'https://catsci-sandbox.signalsnotebook.perkinelmercloud.eu/api/rest/v1.0/entities/text:d44f835a-151e-4b1a-9fb7-1082626d103d'}}}, {'type': 'entity', 'id': 'text:6dae5e21-7cef-4914-8a8f-1a66a5b94ee6', 'meta': {'links': {'self': 'https://catsci-sandbox.signalsnotebook.perkinelmercloud.eu/api/rest/v1.0/entities/text:6dae5e21-7cef-4914-8a8f-1a66a5b94ee6'}}}, {'type': 'entity', 'id': 'text:a9821abe-ca76-407f-8714-7c0ad5b3cf1a', 'meta': {'links': {'self': 'https://catsci-sandbox.signalsnotebook.perkinelmercloud.eu/api/rest/v1.0/entities/text:a9821abe-ca76-407f-8714-7c0ad5b3cf1a'}}}, {'type': 'entity', 'id': 'chemicalDrawing:dea42540-e11b-4b6a-9194-f67deecd30cf', 'meta': {'links': {'self': 'https://catsci-sandbox.signalsnotebook.perkinelmercloud.eu/api/rest/v1.0/entities/chemicalDrawing:dea42540-e11b-4b6a-9194-f67deecd30cf'}}}, {'type': 'entity', 'id': 'grid:1d17c973-68f5-4262-ac72-b7c2e7d4eb85', 'meta': {'links': {'self': 'https://catsci-sandbox.signalsnotebook.perkinelmercloud.eu/api/rest/v1.0/entities/grid:1d17c973-68f5-4262-ac72-b7c2e7d4eb85'}}}]}, 'owner': {'links': {'self': 'https://catsci-sandbox.signalsnotebook.perkinelmercloud.eu/api/rest/v1.0/users/126'}, 'data': {'type': 'user', 'id': '126'}}, 'pdf': {'links': {'self': 'https://catsci-sandbox.signalsnotebook.perkinelmercloud.eu/api/rest/v1.0/entities/experiment:a9a71533-531e-4020-98d9-205fde793994/pdf'}}}}\n"
     ]
    }
   ],
   "source": [
    "d = DataExtraction(data_extraction_config= DataExtractionConfig)\n",
    "\n",
    "x = d.export_data()"
   ]
  },
  {
   "cell_type": "code",
   "execution_count": 12,
   "metadata": {},
   "outputs": [
    {
     "ename": "AttributeError",
     "evalue": "'NoneType' object has no attribute 'json'",
     "output_type": "error",
     "traceback": [
      "\u001b[1;31m---------------------------------------------------------------------------\u001b[0m",
      "\u001b[1;31mAttributeError\u001b[0m                            Traceback (most recent call last)",
      "Cell \u001b[1;32mIn[12], line 1\u001b[0m\n\u001b[1;32m----> 1\u001b[0m x\u001b[39m.\u001b[39;49mjson()\n",
      "\u001b[1;31mAttributeError\u001b[0m: 'NoneType' object has no attribute 'json'"
     ]
    }
   ],
   "source": [
    "x.json()"
   ]
  },
  {
   "cell_type": "code",
   "execution_count": 11,
   "metadata": {},
   "outputs": [],
   "source": [
    "def read_yaml_file(file_path: str) -> list:\n",
    "    try:\n",
    "        with open(file_path, 'rb') as yaml_file:\n",
    "            schema_config = yaml.safe_load(yaml_file)\n",
    "            column_names = []\n",
    "            for column in schema_config['columns']:\n",
    "                column_name = list(column.keys())[0]\n",
    "                column_data_type = column[column_name]\n",
    "                column_names.append({'name': column_name, 'data_type': column_data_type})\n",
    "            return column_names\n",
    "    except Exception as e:\n",
    "        logging.error(\"[ERROR] error occurred while reading YAML file\")\n",
    "        raise ELNException(e, sys) from e"
   ]
  },
  {
   "cell_type": "code",
   "execution_count": 9,
   "metadata": {},
   "outputs": [],
   "source": [
    "from elndata.constant.data import SCHEMA_FILE_PATH\n",
    "from elndata.exception import ELNException\n",
    "from elndata.logger import logging\n",
    "import sys, yaml"
   ]
  },
  {
   "cell_type": "code",
   "execution_count": 14,
   "metadata": {},
   "outputs": [],
   "source": [
    "column_names = read_yaml_file(SCHEMA_FILE_PATH)"
   ]
  },
  {
   "cell_type": "code",
   "execution_count": 16,
   "metadata": {},
   "outputs": [
    {
     "name": "stdout",
     "output_type": "stream",
     "text": [
      "Name\n",
      "Project Code\n",
      "Project Description\n",
      "Description\n",
      "Function\n",
      "Site\n",
      "Client facing\n",
      "state\n",
      "createdAt\n",
      "editedAt\n",
      "firstName\n",
      "lastName\n",
      "email\n"
     ]
    }
   ],
   "source": [
    "for column in column_names:\n",
    "    print(column['name'])"
   ]
  },
  {
   "cell_type": "code",
   "execution_count": null,
   "metadata": {},
   "outputs": [],
   "source": []
  }
 ],
 "metadata": {
  "kernelspec": {
   "display_name": "Python 3",
   "language": "python",
   "name": "python3"
  },
  "language_info": {
   "codemirror_mode": {
    "name": "ipython",
    "version": 3
   },
   "file_extension": ".py",
   "mimetype": "text/x-python",
   "name": "python",
   "nbconvert_exporter": "python",
   "pygments_lexer": "ipython3",
   "version": "3.10.0"
  },
  "orig_nbformat": 4
 },
 "nbformat": 4,
 "nbformat_minor": 2
}
