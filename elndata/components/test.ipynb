{
 "cells": [
  {
   "cell_type": "code",
   "execution_count": 2,
   "metadata": {},
   "outputs": [],
   "source": [
    "from elndata.utils.main import read_yaml_file\n",
    "from elndata.constant.data import SCHEMA_FILE_PATH"
   ]
  },
  {
   "cell_type": "code",
   "execution_count": 3,
   "metadata": {},
   "outputs": [],
   "source": [
    "SCHEMA_FILE_PATH = '../config/schema.yaml'"
   ]
  },
  {
   "cell_type": "code",
   "execution_count": 4,
   "metadata": {},
   "outputs": [],
   "source": [
    "schema_config = read_yaml_file(SCHEMA_FILE_PATH)"
   ]
  },
  {
   "cell_type": "code",
   "execution_count": 5,
   "metadata": {},
   "outputs": [],
   "source": [
    "\n",
    "data = {\n",
    "  \"attributes\": {\n",
    "        \"digest\": \"69353810\",\n",
    "        \"fields\": {\n",
    "          \"Client facing\": {\n",
    "            \"value\": \"No\"\n",
    "          }\n",
    "          }\n",
    "        },\n",
    "        \"signedAt\": \"2023-04-11T10:30:41.494Z\",\n",
    "        \"acceptedAt\": \"2023-04-11T11:49:44.769Z\"\n",
    "      }}\n"
   ]
  },
  {
   "cell_type": "code",
   "execution_count": 6,
   "metadata": {},
   "outputs": [
    {
     "name": "stdout",
     "output_type": "stream",
     "text": [
      "eid\n",
      "eid\n",
      "['experiment:234ef7c7-8237-46f9-bb5c-eedc8e5a164d']\n",
      "Name\n",
      "Project Code\n",
      "Project Description\n",
      "Description\n",
      "Function\n",
      "Site\n",
      "Client facing\n",
      "state\n",
      "state\n",
      "['closed']\n",
      "createdAt\n",
      "createdAt\n",
      "['2023-03-20T09:21:38.915Z']\n",
      "editedAt\n",
      "editedAt\n",
      "['2023-04-11T11:49:44.769Z']\n",
      "acceptedAt\n",
      "acceptedAt\n",
      "['2023-04-11T11:49:44.769Z']\n",
      "firstName\n",
      "lastName\n",
      "email\n"
     ]
    }
   ],
   "source": [
    "for i in schema_config['columns']:\n",
    "    column_name = list(i.keys())[0]\n",
    "    print(column_name)\n",
    "    if column_name in data['attributes']:\n",
    "        print(column_name)\n",
    "        print([data['attributes'][column_name]])"
   ]
  },
  {
   "cell_type": "code",
   "execution_count": 13,
   "metadata": {},
   "outputs": [],
   "source": []
  },
  {
   "cell_type": "code",
   "execution_count": 18,
   "metadata": {},
   "outputs": [
    {
     "data": {
      "text/plain": [
       "'2023-03-20T09:21:38.915Z'"
      ]
     },
     "execution_count": 18,
     "metadata": {},
     "output_type": "execute_result"
    }
   ],
   "source": [
    "data['attributes']['createdAt']"
   ]
  },
  {
   "cell_type": "code",
   "execution_count": null,
   "metadata": {},
   "outputs": [],
   "source": [
    "Data: {'type': 'entity', 'id': 'experiment:234ef7c7-8237-46f9-bb5c-eedc8e5a164d', 'links': {'self': 'https://catsci.signalsnotebook.perkinelmercloud.eu/api/rest/v1.0/entities/experiment:234ef7c7-8237-46f9-bb5c-eedc8e5a164d'}, 'attributes': {'id': 'experiment:234ef7c7-8237-46f9-bb5c-eedc8e5a164d', 'eid': 'experiment:234ef7c7-8237-46f9-bb5c-eedc8e5a164d', 'name': 'ELN1000-001',\n",
    "                                                                                                                                                                                                                                                 'description': 'BMT-737 Drying study', 'createdAt': '2023-03-20T09:21:38.915Z', 'editedAt': '2023-04-11T11:49:44.769Z', 'type': 'experiment', 'state': 'closed', 'digest': '69353810', 'fields': {'Client facing': {'value': 'No'}, 'Description': {'value': 'BMT-737 Drying study'}, 'Function': {'value': 'ChemSci'}, 'Name': {'value': 'ELN1000-001'}, 'Project Code': {'value': 'CS73-208'}, 'Project Description': {'value': 'BMT-613419'}, 'Site': {'value': 'Cardiff'}}}, 'relationships': {'createdBy': {'links': {'self': 'https://catsci.signalsnotebook.perkinelmercloud.eu/api/rest/v1.0/users/106'}, 'data': {'type': 'user', 'id': '106'}}, 'editedBy': {'links': {'self': 'https://catsci.signalsnotebook.perkinelmercloud.eu/api/rest/v1.0/users/164'}, 'data': {'type': 'user', 'id': '164'}}, 'ancestors': {'links': {'self': 'https://catsci.signalsnotebook.perkinelmercloud.eu/api/rest/v1.0/entities/experiment:234ef7c7-8237-46f9-bb5c-eedc8e5a164d/ancestors'}, 'data': [{'type': 'entity', 'id': 'journal:fe169005-9670-4179-be53-f3b3edba3f9d', 'meta': {'links': {'self': 'https://catsci.signalsnotebook.perkinelmercloud.eu/api/rest/v1.0/entities/journal:fe169005-9670-4179-be53-f3b3edba3f9d'}}}]}, 'owner': {'links': {'self': 'https://catsci.signalsnotebook.perkinelmercloud.eu/api/rest/v1.0/users/106'}, 'data': {'type': 'user', 'id': '106'}}, 'pdf': {'links': {'self': 'https://catsci.signalsnotebook.perkinelmercloud.eu/api/rest/v1.0/entities/experiment:234ef7c7-8237-46f9-bb5c-eedc8e5a164d/pdf'}}}}\n"
   ]
  },
  {
   "cell_type": "code",
   "execution_count": 4,
   "metadata": {},
   "outputs": [],
   "source": [
    "import pandas as pd\n",
    "from datetime import datetime, timedelta\n"
   ]
  },
  {
   "cell_type": "code",
   "execution_count": 5,
   "metadata": {},
   "outputs": [],
   "source": [
    "file = '../../elndata/../artifact/data_extracted/data.csv'"
   ]
  },
  {
   "cell_type": "code",
   "execution_count": 6,
   "metadata": {},
   "outputs": [],
   "source": [
    "df = pd.read_csv(file)"
   ]
  },
  {
   "cell_type": "code",
   "execution_count": 7,
   "metadata": {},
   "outputs": [
    {
     "data": {
      "text/plain": [
       "(1680, 14)"
      ]
     },
     "execution_count": 7,
     "metadata": {},
     "output_type": "execute_result"
    }
   ],
   "source": [
    "df.shape"
   ]
  },
  {
   "cell_type": "code",
   "execution_count": 14,
   "metadata": {},
   "outputs": [],
   "source": [
    "df['createdAt'] = pd.to_datetime(df['createdAt'])\n",
    "\n",
    "# Calculate the date 28 days ago from today\n",
    "threshold_date = datetime.today() - timedelta(days=28)\n",
    "\n",
    "# Filter the DataFrame to get experiments older than 28 days and with state equal to 'open'\n",
    "filtered_df = df[(df['createdAt'] >= threshold_date) & (df['state'] == 'open')]"
   ]
  },
  {
   "cell_type": "code",
   "execution_count": 15,
   "metadata": {},
   "outputs": [
    {
     "data": {
      "text/plain": [
       "(196, 14)"
      ]
     },
     "execution_count": 15,
     "metadata": {},
     "output_type": "execute_result"
    }
   ],
   "source": [
    "filtered_df.shape"
   ]
  },
  {
   "cell_type": "code",
   "execution_count": 34,
   "metadata": {},
   "outputs": [
    {
     "data": {
      "text/plain": [
       "503"
      ]
     },
     "execution_count": 34,
     "metadata": {},
     "output_type": "execute_result"
    }
   ],
   "source": [
    "296 + 207"
   ]
  },
  {
   "cell_type": "code",
   "execution_count": 16,
   "metadata": {},
   "outputs": [
    {
     "name": "stdout",
     "output_type": "stream",
     "text": [
      "196\n"
     ]
    }
   ],
   "source": [
    "# Convert the 'createdAt' column to datetime type if it's not already\n",
    "df['createdAt'] = pd.to_datetime(df['createdAt'])\n",
    "\n",
    "# Calculate the date 4 weeks ago from today\n",
    "start_date = datetime.today() - timedelta(weeks=4)\n",
    "\n",
    "# Filter the DataFrame to get experiments from the last 4 weeks and with 'state' equal to 'open'\n",
    "filtered_df = df[(df['createdAt'] >= start_date) & (df['state'] == 'open')]\n",
    "\n",
    "# Calculate the count of experiments from the last 4 weeks and with 'state' equal to 'open'\n",
    "experiments_last_4_weeks = filtered_df.shape[0]\n",
    "\n",
    "# Print the count\n",
    "print(experiments_last_4_weeks)"
   ]
  },
  {
   "cell_type": "code",
   "execution_count": 17,
   "metadata": {},
   "outputs": [
    {
     "name": "stdout",
     "output_type": "stream",
     "text": [
      "304\n"
     ]
    }
   ],
   "source": [
    "# Convert the 'createdAt' column to datetime type if it's not already\n",
    "df['createdAt'] = pd.to_datetime(df['createdAt'])\n",
    "\n",
    "# Calculate the date 4 weeks ago from today\n",
    "start_date = datetime.today() - timedelta(weeks=4)\n",
    "\n",
    "# Filter the DataFrame to get experiments older than 4 weeks and with 'state' equal to 'open'\n",
    "older_than_4_weeks_open_df = df[(df['createdAt'] < start_date) & (df['state'] == 'open')]\n",
    "\n",
    "# Calculate the count of experiments older than 4 weeks and with 'state' equal to 'open'\n",
    "experiments_older_than_4_weeks_and_open = older_than_4_weeks_open_df.shape[0]\n",
    "\n",
    "# Print the count\n",
    "print(experiments_older_than_4_weeks_and_open)"
   ]
  },
  {
   "cell_type": "code",
   "execution_count": null,
   "metadata": {},
   "outputs": [],
   "source": []
  }
 ],
 "metadata": {
  "kernelspec": {
   "display_name": "Python 3",
   "language": "python",
   "name": "python3"
  },
  "language_info": {
   "codemirror_mode": {
    "name": "ipython",
    "version": 3
   },
   "file_extension": ".py",
   "mimetype": "text/x-python",
   "name": "python",
   "nbconvert_exporter": "python",
   "pygments_lexer": "ipython3",
   "version": "3.10.0"
  },
  "orig_nbformat": 4
 },
 "nbformat": 4,
 "nbformat_minor": 2
}
